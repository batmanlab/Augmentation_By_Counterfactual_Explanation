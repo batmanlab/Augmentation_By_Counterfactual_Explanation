{
 "cells": [
  {
   "cell_type": "code",
   "execution_count": 6,
   "metadata": {},
   "outputs": [
    {
     "name": "stdout",
     "output_type": "stream",
     "text": [
      "The autoreload extension is already loaded. To reload it, use:\n",
      "  %reload_ext autoreload\n"
     ]
    }
   ],
   "source": [
    "%load_ext autoreload\n",
    "%autoreload 2"
   ]
  },
  {
   "cell_type": "code",
   "execution_count": 14,
   "metadata": {},
   "outputs": [
    {
     "name": "stdout",
     "output_type": "stream",
     "text": [
      "Namespace(test_name='afhq', TS='yes', score='Odin', num_classes=2, in_channels=3, chkpt_path='/jet/home/nmurali/asc170022p/singla/CounterfactualExplainer/MIMICCX-Chest-Explainer/Classifier/torchxrayvision_/Experiment_AFHQ/AFHQ_256/DenseNet_Cat_Dog_seed_2589/AFHQ-densenet169-AFHQ_256-best.pt', ood_type='food2', test_bs=200, num_to_avg=1, validate=False, use_xent=False, method_name='cifar10_allconv_baseline', out_as_pos=False, T=1.0, noise=0)\n",
      "Using downloaded and verified file: /ocean/projects/asc170022p/singla/Datasets/MNIST_Data/SVHN/train_32x32.mat\n",
      "Before temperature - NLL: 13.033, ECE: 0.979\n",
      "Optimal temperature: 38.111\n",
      "After temperature - NLL: 0.881, ECE: 0.572\n",
      "new temperature is: 38.110622\n"
     ]
    },
    {
     "name": "stderr",
     "output_type": "stream",
     "text": [
      "100%|██████████| 182/182 [00:16<00:00, 11.15it/s]\n",
      " 20%|██        | 501/2484 [00:43<02:53, 11.42it/s]"
     ]
    },
    {
     "name": "stdout",
     "output_type": "stream",
     "text": [
      "[-0.6355368  -0.60357064 -0.7126537 ] [-0.5338642 -0.5784516 -0.6020424]\n",
      "\t\t\t\tcifar10_allconv_baseline\n",
      "  TNR95 AUROC AUPR\n",
      "& 51.89 & 0.93 & 98.50\n",
      "\n",
      "\n",
      "Mean Validation Results\n",
      "\t\t\t\tcifar10_allconv_baseline\n",
      "  TNR95 AUROC AUPR\n",
      "& 51.89 & 0.93 & 98.50\n"
     ]
    },
    {
     "name": "stderr",
     "output_type": "stream",
     "text": [
      "\n"
     ]
    }
   ],
   "source": [
    "run test3_copy.py"
   ]
  },
  {
   "cell_type": "code",
   "execution_count": null,
   "metadata": {},
   "outputs": [],
   "source": []
  }
 ],
 "metadata": {
  "kernelspec": {
   "display_name": "pl",
   "language": "python",
   "name": "pl"
  },
  "language_info": {
   "codemirror_mode": {
    "name": "ipython",
    "version": 3
   },
   "file_extension": ".py",
   "mimetype": "text/x-python",
   "name": "python",
   "nbconvert_exporter": "python",
   "pygments_lexer": "ipython3",
   "version": "3.9.7"
  }
 },
 "nbformat": 4,
 "nbformat_minor": 4
}
